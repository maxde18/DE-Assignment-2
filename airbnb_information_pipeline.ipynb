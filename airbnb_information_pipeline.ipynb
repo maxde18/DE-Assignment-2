{
 "cells": [
  {
   "cell_type": "code",
   "execution_count": 76,
   "id": "fb72fe36-330d-4403-ad16-5dd8591a1596",
   "metadata": {},
   "outputs": [],
   "source": [
    "from pyspark.sql import SparkSession\n",
    "from pyspark import SparkConf\n",
    "\n",
    "sparkConf = SparkConf()\n",
    "sparkConf.setMaster(\"spark://spark-master:7077\")\n",
    "sparkConf.setAppName(\"Advanced_DF_EX1\")\n",
    "sparkConf.set(\"spark.driver.memory\", \"2g\")\n",
    "sparkConf.set(\"spark.executor.cores\", \"1\")\n",
    "sparkConf.set(\"spark.driver.cores\", \"1\")\n",
    "\n",
    "# create the spark session, which is the entry point to Spark SQL engine.\n",
    "spark = SparkSession.builder.config(conf=sparkConf).getOrCreate()\n",
    "# load data\n",
    "# Setup hadoop fs configuration for schema gs://\n",
    "conf = spark.sparkContext._jsc.hadoopConfiguration()\n",
    "conf.set(\"fs.gs.impl\", \"com.google.cloud.hadoop.fs.gcs.GoogleHadoopFileSystem\")\n",
    "conf.set(\"fs.AbstractFileSystem.gs.impl\", \"com.google.cloud.hadoop.fs.gcs.GoogleHadoopFS\")\n",
    "\n",
    "\n",
    "airbnb_gsc_file_path = 'gs://data_de2024_708179/AB_NYC_2019.csv'"
   ]
  },
  {
   "cell_type": "code",
   "execution_count": 77,
   "id": "8cf3f341-f799-457b-993a-fc33971d7873",
   "metadata": {},
   "outputs": [
    {
     "name": "stdout",
     "output_type": "stream",
     "text": [
      "root\n",
      " |-- id: integer (nullable = true)\n",
      " |-- name: string (nullable = true)\n",
      " |-- host_id: integer (nullable = true)\n",
      " |-- host_name: string (nullable = true)\n",
      " |-- neighbourhood_group: string (nullable = true)\n",
      " |-- neighbourhood: string (nullable = true)\n",
      " |-- latitude: float (nullable = true)\n",
      " |-- longitude: float (nullable = true)\n",
      " |-- room_type: string (nullable = true)\n",
      " |-- price: integer (nullable = true)\n",
      " |-- minimum_nights: integer (nullable = true)\n",
      " |-- number_of_reviews: integer (nullable = true)\n",
      " |-- last_review: date (nullable = true)\n",
      " |-- reviews_per_month: float (nullable = true)\n",
      " |-- calculated_host_listings_count: integer (nullable = true)\n",
      " |-- availability_365: integer (nullable = true)\n",
      " |-- borough: string (nullable = true)\n",
      "\n",
      "+----+--------------------+-------+-----------+-------------------+------------------+--------+---------+---------------+-----+--------------+-----------------+-----------+-----------------+------------------------------+----------------+---------+\n",
      "|  id|                name|host_id|  host_name|neighbourhood_group|     neighbourhood|latitude|longitude|      room_type|price|minimum_nights|number_of_reviews|last_review|reviews_per_month|calculated_host_listings_count|availability_365|  borough|\n",
      "+----+--------------------+-------+-----------+-------------------+------------------+--------+---------+---------------+-----+--------------+-----------------+-----------+-----------------+------------------------------+----------------+---------+\n",
      "|2539|Clean & quiet apt...|   2787|       John|           Brooklyn|        Kensington|40.64749|-73.97237|   Private room|  149|             1|                9| 2018-10-19|             0.21|                             6|             365| BROOKLYN|\n",
      "|2595|Skylit Midtown Ca...|   2845|   Jennifer|          Manhattan|           Midtown|40.75362|-73.98377|Entire home/apt|  225|             1|               45| 2019-05-21|             0.38|                             2|             355|MANHATTAN|\n",
      "|3647|THE VILLAGE OF HA...|   4632|  Elisabeth|          Manhattan|            Harlem|40.80902| -73.9419|   Private room|  150|             3|                0|       NULL|             NULL|                             1|             365|MANHATTAN|\n",
      "|3831|Cozy Entire Floor...|   4869|LisaRoxanne|           Brooklyn|      Clinton Hill|40.68514|-73.95976|Entire home/apt|   89|             1|              270| 2019-07-05|             4.64|                             1|             194| BROOKLYN|\n",
      "|5022|Entire Apt: Spaci...|   7192|      Laura|          Manhattan|       East Harlem|40.79851|-73.94399|Entire home/apt|   80|            10|                9| 2018-11-19|              0.1|                             1|               0|MANHATTAN|\n",
      "|5099|Large Cozy 1 BR A...|   7322|      Chris|          Manhattan|       Murray Hill|40.74767|  -73.975|Entire home/apt|  200|             3|               74| 2019-06-22|             0.59|                             1|             129|MANHATTAN|\n",
      "|5121|     BlissArtsSpace!|   7356|      Garon|           Brooklyn|Bedford-Stuyvesant|40.68688|-73.95596|   Private room|   60|            45|               49| 2017-10-05|              0.4|                             1|               0| BROOKLYN|\n",
      "|5178|Large Furnished R...|   8967|   Shunichi|          Manhattan|    Hell's Kitchen|40.76489|-73.98493|   Private room|   79|             2|              430| 2019-06-24|             3.47|                             1|             220|MANHATTAN|\n",
      "|5203|Cozy Clean Guest ...|   7490|  MaryEllen|          Manhattan|   Upper West Side|40.80178|-73.96723|   Private room|   79|             2|              118| 2017-07-21|             0.99|                             1|               0|MANHATTAN|\n",
      "|5238|Cute & Cozy Lower...|   7549|        Ben|          Manhattan|         Chinatown|40.71344|-73.99037|Entire home/apt|  150|             1|              160| 2019-06-09|             1.33|                             4|             188|MANHATTAN|\n",
      "+----+--------------------+-------+-----------+-------------------+------------------+--------+---------+---------------+-----+--------------+-----------------+-----------+-----------------+------------------------------+----------------+---------+\n",
      "only showing top 10 rows\n",
      "\n"
     ]
    }
   ],
   "source": [
    "from pyspark.sql.types import StructType, StructField, IntegerType, StringType, FloatType, DateType\n",
    "from pyspark.sql.functions import col, max, min, regexp_replace, upper, count, trim, rank, sum, when, avg\n",
    "\n",
    "\n",
    "dataSchema = StructType(\n",
    "        [StructField(\"id\", IntegerType(), True),\n",
    "         StructField(\"name\", StringType(), True),\n",
    "         StructField(\"host_id\", IntegerType(), True),\n",
    "         StructField(\"host_name\", StringType(), True),\n",
    "         StructField(\"neighbourhood_group\", StringType(), True),\n",
    "         StructField(\"neighbourhood\", StringType(), True),       \n",
    "         StructField(\"latitude\", FloatType(), True),\n",
    "         StructField(\"longitude\", FloatType(), True),\n",
    "         StructField(\"room_type\", StringType(), True),\n",
    "         StructField(\"price\", IntegerType(), True),       \n",
    "         StructField(\"minimum_nights\", IntegerType(), True),\n",
    "         StructField(\"number_of_reviews\", IntegerType(), True),\n",
    "         StructField(\"last_review\", DateType(), True),\n",
    "         StructField(\"reviews_per_month\", FloatType(), True),       \n",
    "         StructField(\"calculated_host_listings_count\", IntegerType(), True),\n",
    "         StructField(\"availability_365\", IntegerType(), True),\n",
    "         ])\n",
    "\n",
    "df.printSchema()\n",
    "df.show(10)"
   ]
  },
  {
   "cell_type": "code",
   "execution_count": 80,
   "id": "f8880f95-f714-4744-bfa5-a20a74fbc818",
   "metadata": {},
   "outputs": [
    {
     "name": "stdout",
     "output_type": "stream",
     "text": [
      "+----+--------------------+-------+----------------+------------------+--------+---------+---------------+-----+--------------+-----------------+----------------+---------+\n",
      "|  id|                name|host_id|       host_name|     neighbourhood|latitude|longitude|      room_type|price|minimum_nights|number_of_reviews|availability_365|  borough|\n",
      "+----+--------------------+-------+----------------+------------------+--------+---------+---------------+-----+--------------+-----------------+----------------+---------+\n",
      "|2539|Clean & quiet apt...|   2787|            John|        Kensington|40.64749|-73.97237|   Private room|  149|             1|                9|             365| BROOKLYN|\n",
      "|2595|Skylit Midtown Ca...|   2845|        Jennifer|           Midtown|40.75362|-73.98377|Entire home/apt|  225|             1|               45|             355|MANHATTAN|\n",
      "|3647|THE VILLAGE OF HA...|   4632|       Elisabeth|            Harlem|40.80902| -73.9419|   Private room|  150|             3|                0|             365|MANHATTAN|\n",
      "|3831|Cozy Entire Floor...|   4869|     LisaRoxanne|      Clinton Hill|40.68514|-73.95976|Entire home/apt|   89|             1|              270|             194| BROOKLYN|\n",
      "|5022|Entire Apt: Spaci...|   7192|           Laura|       East Harlem|40.79851|-73.94399|Entire home/apt|   80|            10|                9|               0|MANHATTAN|\n",
      "|5099|Large Cozy 1 BR A...|   7322|           Chris|       Murray Hill|40.74767|  -73.975|Entire home/apt|  200|             3|               74|             129|MANHATTAN|\n",
      "|5121|     BlissArtsSpace!|   7356|           Garon|Bedford-Stuyvesant|40.68688|-73.95596|   Private room|   60|            45|               49|               0| BROOKLYN|\n",
      "|5178|Large Furnished R...|   8967|        Shunichi|    Hell's Kitchen|40.76489|-73.98493|   Private room|   79|             2|              430|             220|MANHATTAN|\n",
      "|5203|Cozy Clean Guest ...|   7490|       MaryEllen|   Upper West Side|40.80178|-73.96723|   Private room|   79|             2|              118|               0|MANHATTAN|\n",
      "|5238|Cute & Cozy Lower...|   7549|             Ben|         Chinatown|40.71344|-73.99037|Entire home/apt|  150|             1|              160|             188|MANHATTAN|\n",
      "|5295|Beautiful 1br on ...|   7702|            Lena|   Upper West Side|40.80316|-73.96545|Entire home/apt|  135|             5|               53|               6|MANHATTAN|\n",
      "|5441|Central Manhattan...|   7989|            Kate|    Hell's Kitchen|40.76076|-73.98867|   Private room|   85|             2|              188|              39|MANHATTAN|\n",
      "|5803|Lovely Room 1, Ga...|   9744|          Laurie|       South Slope|40.66829|-73.98779|   Private room|   89|             4|              167|             314| BROOKLYN|\n",
      "|6021|Wonderful Guest B...|  11528|         Claudio|   Upper West Side|40.79826|-73.96113|   Private room|   85|             2|              113|             333|MANHATTAN|\n",
      "|6090|West Village Nest...|  11975|           Alina|      West Village| 40.7353|-74.00525|Entire home/apt|  120|            90|               27|               0|MANHATTAN|\n",
      "|6848|Only 2 stops to M...|  15991|   Allen & Irina|      Williamsburg|40.70837|-73.95352|Entire home/apt|  140|             2|              148|              46| BROOKLYN|\n",
      "|7097|Perfect for Your ...|  17571|            Jane|       Fort Greene|40.69169|-73.97185|Entire home/apt|  215|             2|              198|             321| BROOKLYN|\n",
      "|7322|     Chelsea Perfect|  18946|            Doti|           Chelsea|40.74192|-73.99501|   Private room|  140|             1|              260|              12|MANHATTAN|\n",
      "|7726|Hip Historic Brow...|  20950|Adam And Charity|     Crown Heights|40.67592|-73.94694|Entire home/apt|   99|             3|               53|              21| BROOKLYN|\n",
      "|7750|Huge 2 BR Upper E...|  17985|            Sing|       East Harlem|40.79685|-73.94872|Entire home/apt|  190|             7|                0|             249|MANHATTAN|\n",
      "+----+--------------------+-------+----------------+------------------+--------+---------+---------------+-----+--------------+-----------------+----------------+---------+\n",
      "only showing top 20 rows\n",
      "\n"
     ]
    }
   ],
   "source": [
    "df = df.withColumn('borough', upper(col('neighbourhood_group')))\n",
    "df = df.drop('last_review', 'reviews_per_month', 'calculated_host_listings_count', 'neighbourhood_group')\n",
    "\n",
    "df.show()"
   ]
  },
  {
   "cell_type": "code",
   "execution_count": 82,
   "id": "2dd0ee9c-e368-4adb-9aba-2f90120a1047",
   "metadata": {},
   "outputs": [
    {
     "name": "stdout",
     "output_type": "stream",
     "text": [
      "+---+----+-------+---------+-------------+--------+---------+---------+-----+--------------+-----------------+----------------+-------+\n",
      "| id|name|host_id|host_name|neighbourhood|latitude|longitude|room_type|price|minimum_nights|number_of_reviews|availability_365|borough|\n",
      "+---+----+-------+---------+-------------+--------+---------+---------+-----+--------------+-----------------+----------------+-------+\n",
      "|184|  32|    350|      206|          185|     194|      343|      185|  194|           188|              342|             342|    185|\n",
      "+---+----+-------+---------+-------------+--------+---------+---------+-----+--------------+-----------------+----------------+-------+\n",
      "\n"
     ]
    },
    {
     "data": {
      "text/plain": [
       "49079"
      ]
     },
     "execution_count": 82,
     "metadata": {},
     "output_type": "execute_result"
    }
   ],
   "source": [
    "null_counts = df.select(\n",
    "    *[sum(when(col(c).isNull(), 1).otherwise(0)).alias(c) for c in df.columns]\n",
    ")\n",
    "null_counts.show()\n",
    "df.count()"
   ]
  },
  {
   "cell_type": "code",
   "execution_count": 85,
   "id": "e9feeec7-9e30-4dd9-8e9b-d7c21c974001",
   "metadata": {},
   "outputs": [
    {
     "data": {
      "text/plain": [
       "48683"
      ]
     },
     "execution_count": 85,
     "metadata": {},
     "output_type": "execute_result"
    }
   ],
   "source": [
    "df_cleaned = df.dropna(subset=['id', 'name', 'host_id', 'host_name', 'room_type', 'price','number_of_reviews', 'availability_365', 'borough'])\n",
    "df_cleaned.count()"
   ]
  },
  {
   "cell_type": "code",
   "execution_count": 88,
   "id": "2a1e14cb-636c-4351-b7da-a1bb8fdc84ae",
   "metadata": {},
   "outputs": [
    {
     "name": "stdout",
     "output_type": "stream",
     "text": [
      "+----+--------------------+-------+-----------+-------------+--------+---------+---------------+-----+--------------+-----------------+----------------+---------+\n",
      "|  id|                name|host_id|  host_name|neighbourhood|latitude|longitude|      room_type|price|minimum_nights|number_of_reviews|availability_365|  borough|\n",
      "+----+--------------------+-------+-----------+-------------+--------+---------+---------------+-----+--------------+-----------------+----------------+---------+\n",
      "|2539|Clean & quiet apt...|   2787|       John|   Kensington|40.64749|-73.97237|   Private room|  149|             1|                9|             365| BROOKLYN|\n",
      "|2595|Skylit Midtown Ca...|   2845|   Jennifer|      Midtown|40.75362|-73.98377|Entire home/apt|  225|             1|               45|             355|MANHATTAN|\n",
      "|3647|THE VILLAGE OF HA...|   4632|  Elisabeth|       Harlem|40.80902| -73.9419|   Private room|  150|             3|                0|             365|MANHATTAN|\n",
      "|3831|Cozy Entire Floor...|   4869|LisaRoxanne| Clinton Hill|40.68514|-73.95976|Entire home/apt|   89|             1|              270|             194| BROOKLYN|\n",
      "|5022|Entire Apt: Spaci...|   7192|      Laura|  East Harlem|40.79851|-73.94399|Entire home/apt|   80|            10|                9|               0|MANHATTAN|\n",
      "+----+--------------------+-------+-----------+-------------+--------+---------+---------------+-----+--------------+-----------------+----------------+---------+\n",
      "only showing top 5 rows\n",
      "\n"
     ]
    }
   ],
   "source": [
    "df_cleaned.show(5)"
   ]
  },
  {
   "cell_type": "code",
   "execution_count": 92,
   "id": "13796ed8-bcba-4d0f-927c-1f3d0e01070d",
   "metadata": {},
   "outputs": [
    {
     "name": "stdout",
     "output_type": "stream",
     "text": [
      "+--------+--------------------+--------+--------------+--------------------+--------+---------+---------------+-----+--------------+-----------------+----------------+--------+----------+-----------------+------------+\n",
      "|      id|                name| host_id|     host_name|       neighbourhood|latitude|longitude|      room_type|price|minimum_nights|number_of_reviews|availability_365| borough|price_rank|availability_rank|reviews_rank|\n",
      "+--------+--------------------+--------+--------------+--------------------+--------+---------+---------------+-----+--------------+-----------------+----------------+--------+----------+-----------------+------------+\n",
      "| 3474320|Private brownston...|12949460|           Asa|          Park Slope|40.67926|-73.97711|Entire home/apt|  160|             1|              488|             269|BROOKLYN|      3865|             3450|           1|\n",
      "|  166172|LG Private Room/F...|  792159|         Wanda|            Bushwick|40.70283|-73.92131|   Private room|   60|             3|              480|               0|BROOKLYN|     14645|            12216|           2|\n",
      "|   26785|Park Slope Green ...|   42273|          Dani|         South Slope|40.66853|-73.98912|Entire home/apt|  120|            30|              467|             192|BROOKLYN|      6810|             4852|           3|\n",
      "|   31994|Room with En Suit...|  137814|      Waldemar|        Clinton Hill| 40.6873| -73.9634|   Private room|   76|             2|              426|             275|BROOKLYN|     12028|             3316|           4|\n",
      "|  699472|NYC 1st Shipping ...| 3587751|   Janet-David|        Williamsburg|40.70995|-73.95536|Entire home/apt|  220|             1|              404|             341|BROOKLYN|      1840|             1475|           5|\n",
      "|  195233|Hospitality on Pr...|  949221|        Dennis|Prospect-Lefferts...|40.65513|-73.95641|   Private room|   43|             1|              401|              43|BROOKLYN|     18325|             9263|           6|\n",
      "|   76761|Eveland the Place...|  118971|        Evelyn|         South Slope|40.66552|-73.99019|Entire home/apt|  169|             2|              398|             182|BROOKLYN|      3658|             5118|           7|\n",
      "| 6422875|Brooklyn Creative...|33510832|      Benjamin|  Bedford-Stuyvesant|40.69271|-73.94353|   Private room|   70|             1|              397|              35|BROOKLYN|     12888|             9627|           8|\n",
      "|  158955|PRIVATE and SUNNY...|  465589|          Amia|        Williamsburg|40.70867|-73.94284|Entire home/apt|  139|             2|              385|             222|BROOKLYN|      5593|             4405|           9|\n",
      "|12502633|New Apt. in Park ...|  379619|          J. E|             Gowanus|  40.667|-73.99233|Entire home/apt|  100|             1|              378|              48|BROOKLYN|      8309|             9071|          10|\n",
      "| 1217318|Williamsburg Pent...| 6642777|        Martin|        Williamsburg|40.71024| -73.9517|   Private room|  105|             1|              374|              69|BROOKLYN|      8100|             8243|          11|\n",
      "| 3798941|Williamsburg Pent...| 6642777|        Martin|        Williamsburg|40.71231|-73.95313|   Private room|  105|             1|              372|              59|BROOKLYN|      8100|             8669|          12|\n",
      "|   94477|The Vernon On Greene|  478395|         Jason|  Bedford-Stuyvesant|40.69305|-73.93185|Entire home/apt|  175|             2|              370|             204|BROOKLYN|      3251|             4714|          13|\n",
      "|  713538|Chic Victorian pr...| 3672774|        Alison|        Clinton Hill|40.68341| -73.9606|Entire home/apt|  175|             1|              363|             323|BROOKLYN|      3251|             2064|          14|\n",
      "| 4192400|Private+Cozy Room...|21751476|         Grace|            Bushwick|40.69233|-73.90579|   Private room|   72|             1|              360|              66|BROOKLYN|     12799|             8371|          15|\n",
      "|   54158|The Institute—Hea...|   10889|           Bob|        Williamsburg| 40.7195|-73.95976|Entire home/apt|  249|             2|              358|             164|BROOKLYN|      1519|             5690|          16|\n",
      "| 4170460|#1 Superhost Spec...|21641206|      Veronica|  Bedford-Stuyvesant| 40.6956|-73.94827|   Private room|   65|             1|              357|             321|BROOKLYN|     13822|             2115|          17|\n",
      "| 1056185|Sunny+Cozy Double...|  697442|Chris And Zach|       East Flatbush|40.64851|-73.94667|   Private room|   60|             1|              356|              19|BROOKLYN|     14645|            10489|          18|\n",
      "|   27531|Eveland Private B...|  118971|        Evelyn|         South Slope|40.66831|-73.98604|   Private room|   99|             2|              354|              20|BROOKLYN|      9171|            10415|          19|\n",
      "| 4282178|A Superhost SALE!...|21641206|      Veronica|  Bedford-Stuyvesant|40.69724|-73.94914|   Private room|   53|             1|              351|               0|BROOKLYN|     16297|            12216|          20|\n",
      "+--------+--------------------+--------+--------------+--------------------+--------+---------+---------------+-----+--------------+-----------------+----------------+--------+----------+-----------------+------------+\n",
      "only showing top 20 rows\n",
      "\n"
     ]
    }
   ],
   "source": [
    "window_spec_price = Window.partitionBy(\"borough\").orderBy(col(\"price\").desc())\n",
    "window_spec_availability = Window.partitionBy(\"borough\").orderBy(col(\"availability_365\").desc())\n",
    "window_spec_reviews = Window.partitionBy(\"borough\").orderBy(col(\"number_of_reviews\").desc())\n",
    "\n",
    "df_final = (\n",
    "    df_cleaned.withColumn(\"price_rank\", rank().over(window_spec_price))\n",
    "      .withColumn(\"availability_rank\", rank().over(window_spec_availability))\n",
    "      .withColumn(\"reviews_rank\", rank().over(window_spec_reviews))\n",
    ")\n",
    "\n",
    "df_final.show(20)"
   ]
  },
  {
   "cell_type": "code",
   "execution_count": 11,
   "id": "de589781-e22e-49f0-be7a-4957e93e3416",
   "metadata": {},
   "outputs": [],
   "source": [
    "from google.cloud import bigquery\n",
    "\n",
    "# Use the Cloud Storage bucket for temporary BigQuery export data used by the connector.\n",
    "bucket = \"de_jads_temp_708179\"  # use your bucket \n",
    "spark.conf.set('temporaryGcsBucket', bucket)\n",
    "# Setup hadoop fs configuration for schema gs://\n",
    "conf = spark.sparkContext._jsc.hadoopConfiguration()\n",
    "conf.set(\"fs.gs.impl\", \"com.google.cloud.hadoop.fs.gcs.GoogleHadoopFileSystem\")\n",
    "conf.set(\"fs.AbstractFileSystem.gs.impl\", \"com.google.cloud.hadoop.fs.gcs.GoogleHadoopFS\")\n",
    "# Saving the data to BigQuery\n",
    "df_final.write.format('bigquery') \\\n",
    "  .option('table', 'de2024-435320.assignment_2.airbnb') \\\n",
    "  .mode(\"overwrite\") \\\n",
    "  .save()"
   ]
  }
 ],
 "metadata": {
  "kernelspec": {
   "display_name": "Python 3 (ipykernel)",
   "language": "python",
   "name": "python3"
  },
  "language_info": {
   "codemirror_mode": {
    "name": "ipython",
    "version": 3
   },
   "file_extension": ".py",
   "mimetype": "text/x-python",
   "name": "python",
   "nbconvert_exporter": "python",
   "pygments_lexer": "ipython3",
   "version": "3.11.6"
  }
 },
 "nbformat": 4,
 "nbformat_minor": 5
}
