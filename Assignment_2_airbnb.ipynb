{
 "cells": [
  {
   "cell_type": "code",
   "execution_count": 3,
   "id": "fb72fe36-330d-4403-ad16-5dd8591a1596",
   "metadata": {},
   "outputs": [],
   "source": [
    "from pyspark.sql import SparkSession\n",
    "from pyspark import SparkConf\n",
    "\n",
    "sparkConf = SparkConf()\n",
    "sparkConf.setMaster(\"spark://spark-master:7077\")\n",
    "sparkConf.setAppName(\"Advanced_DF_EX1\")\n",
    "sparkConf.set(\"spark.driver.memory\", \"2g\")\n",
    "sparkConf.set(\"spark.executor.cores\", \"1\")\n",
    "sparkConf.set(\"spark.driver.cores\", \"1\")\n",
    "\n",
    "# create the spark session, which is the entry point to Spark SQL engine.\n",
    "spark = SparkSession.builder.config(conf=sparkConf).getOrCreate()\n",
    "# load data\n",
    "# Setup hadoop fs configuration for schema gs://\n",
    "conf = spark.sparkContext._jsc.hadoopConfiguration()\n",
    "conf.set(\"fs.gs.impl\", \"com.google.cloud.hadoop.fs.gcs.GoogleHadoopFileSystem\")\n",
    "conf.set(\"fs.AbstractFileSystem.gs.impl\", \"com.google.cloud.hadoop.fs.gcs.GoogleHadoopFS\")\n",
    "\n",
    "airbnb_gsc_file_path = 'gs://data_de2024_708179/AB_NYC_2019.csv'"
   ]
  },
  {
   "cell_type": "code",
   "execution_count": 9,
   "id": "8cf3f341-f799-457b-993a-fc33971d7873",
   "metadata": {},
   "outputs": [
    {
     "name": "stdout",
     "output_type": "stream",
     "text": [
      "root\n",
      " |-- id: integer (nullable = true)\n",
      " |-- name: string (nullable = true)\n",
      " |-- host_id: integer (nullable = true)\n",
      " |-- host_name: string (nullable = true)\n",
      " |-- neighbourhood_group: string (nullable = true)\n",
      " |-- neighbourhood: string (nullable = true)\n",
      " |-- latitude: float (nullable = true)\n",
      " |-- longitude: float (nullable = true)\n",
      " |-- room_type: string (nullable = true)\n",
      " |-- price: integer (nullable = true)\n",
      " |-- minimum_nights: integer (nullable = true)\n",
      " |-- number_of_reviews: integer (nullable = true)\n",
      " |-- last_review: date (nullable = true)\n",
      " |-- reviews_per_month: float (nullable = true)\n",
      " |-- calculated_host_listings_count: integer (nullable = true)\n",
      " |-- availability_365: integer (nullable = true)\n",
      " |-- borough: string (nullable = true)\n",
      "\n",
      "+----+--------------------+-------+-----------+-------------------+------------------+--------+---------+---------------+-----+--------------+-----------------+-----------+-----------------+------------------------------+----------------+---------+\n",
      "|  id|                name|host_id|  host_name|neighbourhood_group|     neighbourhood|latitude|longitude|      room_type|price|minimum_nights|number_of_reviews|last_review|reviews_per_month|calculated_host_listings_count|availability_365|  borough|\n",
      "+----+--------------------+-------+-----------+-------------------+------------------+--------+---------+---------------+-----+--------------+-----------------+-----------+-----------------+------------------------------+----------------+---------+\n",
      "|2539|Clean & quiet apt...|   2787|       John|           Brooklyn|        Kensington|40.64749|-73.97237|   Private room|  149|             1|                9| 2018-10-19|             0.21|                             6|             365| BROOKLYN|\n",
      "|2595|Skylit Midtown Ca...|   2845|   Jennifer|          Manhattan|           Midtown|40.75362|-73.98377|Entire home/apt|  225|             1|               45| 2019-05-21|             0.38|                             2|             355|MANHATTAN|\n",
      "|3647|THE VILLAGE OF HA...|   4632|  Elisabeth|          Manhattan|            Harlem|40.80902| -73.9419|   Private room|  150|             3|                0|       NULL|             NULL|                             1|             365|MANHATTAN|\n",
      "|3831|Cozy Entire Floor...|   4869|LisaRoxanne|           Brooklyn|      Clinton Hill|40.68514|-73.95976|Entire home/apt|   89|             1|              270| 2019-07-05|             4.64|                             1|             194| BROOKLYN|\n",
      "|5022|Entire Apt: Spaci...|   7192|      Laura|          Manhattan|       East Harlem|40.79851|-73.94399|Entire home/apt|   80|            10|                9| 2018-11-19|              0.1|                             1|               0|MANHATTAN|\n",
      "|5099|Large Cozy 1 BR A...|   7322|      Chris|          Manhattan|       Murray Hill|40.74767|  -73.975|Entire home/apt|  200|             3|               74| 2019-06-22|             0.59|                             1|             129|MANHATTAN|\n",
      "|5121|     BlissArtsSpace!|   7356|      Garon|           Brooklyn|Bedford-Stuyvesant|40.68688|-73.95596|   Private room|   60|            45|               49| 2017-10-05|              0.4|                             1|               0| BROOKLYN|\n",
      "|5178|Large Furnished R...|   8967|   Shunichi|          Manhattan|    Hell's Kitchen|40.76489|-73.98493|   Private room|   79|             2|              430| 2019-06-24|             3.47|                             1|             220|MANHATTAN|\n",
      "|5203|Cozy Clean Guest ...|   7490|  MaryEllen|          Manhattan|   Upper West Side|40.80178|-73.96723|   Private room|   79|             2|              118| 2017-07-21|             0.99|                             1|               0|MANHATTAN|\n",
      "|5238|Cute & Cozy Lower...|   7549|        Ben|          Manhattan|         Chinatown|40.71344|-73.99037|Entire home/apt|  150|             1|              160| 2019-06-09|             1.33|                             4|             188|MANHATTAN|\n",
      "+----+--------------------+-------+-----------+-------------------+------------------+--------+---------+---------------+-----+--------------+-----------------+-----------+-----------------+------------------------------+----------------+---------+\n",
      "only showing top 10 rows\n",
      "\n"
     ]
    }
   ],
   "source": [
    "from pyspark.sql.types import StructType, StructField, IntegerType, StringType, FloatType, DateType\n",
    "from pyspark.sql.functions import col, max, min, regexp_replace, upper, count, trim, rank\n",
    "\n",
    "\n",
    "\n",
    "dataSchema = StructType(\n",
    "        [StructField(\"id\", IntegerType(), True),\n",
    "         StructField(\"name\", StringType(), True),\n",
    "         StructField(\"host_id\", IntegerType(), True),\n",
    "         StructField(\"host_name\", StringType(), True),\n",
    "         StructField(\"neighbourhood_group\", StringType(), True),\n",
    "         StructField(\"neighbourhood\", StringType(), True),       \n",
    "         StructField(\"latitude\", FloatType(), True),\n",
    "         StructField(\"longitude\", FloatType(), True),\n",
    "         StructField(\"room_type\", StringType(), True),\n",
    "         StructField(\"price\", IntegerType(), True),       \n",
    "         StructField(\"minimum_nights\", IntegerType(), True),\n",
    "         StructField(\"number_of_reviews\", IntegerType(), True),\n",
    "         StructField(\"last_review\", DateType(), True),\n",
    "         StructField(\"reviews_per_month\", FloatType(), True),       \n",
    "         StructField(\"calculated_host_listings_count\", IntegerType(), True),\n",
    "         StructField(\"availability_365\", IntegerType(), True),\n",
    "         ])\n",
    "\n",
    "df = spark.read.schema(dataSchema).format(\"csv\").option(\"header\", \"true\") \\\n",
    "       .load(airbnb_gsc_file_path)\\\n",
    "       .withColumn('borough', upper(col('neighbourhood_group')))\n",
    "df.printSchema()\n",
    "df.show(10)"
   ]
  },
  {
   "cell_type": "code",
   "execution_count": 11,
   "id": "de589781-e22e-49f0-be7a-4957e93e3416",
   "metadata": {},
   "outputs": [],
   "source": [
    "from google.cloud import bigquery\n",
    "\n",
    "# Use the Cloud Storage bucket for temporary BigQuery export data used by the connector.\n",
    "bucket = \"de_jads_temp_708179\"  # use your bucket \n",
    "spark.conf.set('temporaryGcsBucket', bucket)\n",
    "# Setup hadoop fs configuration for schema gs://\n",
    "conf = spark.sparkContext._jsc.hadoopConfiguration()\n",
    "conf.set(\"fs.gs.impl\", \"com.google.cloud.hadoop.fs.gcs.GoogleHadoopFileSystem\")\n",
    "conf.set(\"fs.AbstractFileSystem.gs.impl\", \"com.google.cloud.hadoop.fs.gcs.GoogleHadoopFS\")\n",
    "# Saving the data to BigQuery\n",
    "df.write.format('bigquery') \\\n",
    "  .option('table', 'de2024-435320.assignment_2.airbnb') \\\n",
    "  .mode(\"overwrite\") \\\n",
    "  .save()"
   ]
  }
 ],
 "metadata": {
  "kernelspec": {
   "display_name": "Python 3 (ipykernel)",
   "language": "python",
   "name": "python3"
  },
  "language_info": {
   "codemirror_mode": {
    "name": "ipython",
    "version": 3
   },
   "file_extension": ".py",
   "mimetype": "text/x-python",
   "name": "python",
   "nbconvert_exporter": "python",
   "pygments_lexer": "ipython3",
   "version": "3.11.6"
  }
 },
 "nbformat": 4,
 "nbformat_minor": 5
}
