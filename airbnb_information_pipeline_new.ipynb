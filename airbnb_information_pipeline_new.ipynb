{
 "cells": [
  {
   "cell_type": "code",
   "execution_count": 1,
   "id": "244041f9-1a2b-45d1-8eb3-d50306404bff",
   "metadata": {},
   "outputs": [],
   "source": [
    "from pyspark.sql import SparkSession, Window\n",
    "from pyspark import SparkConf\n",
    "\n",
    "sparkConf = SparkConf()\n",
    "sparkConf.setMaster(\"spark://spark-master:7077\")\n",
    "sparkConf.setAppName(\"Advanced_DF_EX1\")\n",
    "sparkConf.set(\"spark.driver.memory\", \"2g\")\n",
    "sparkConf.set(\"spark.executor.cores\", \"1\")\n",
    "sparkConf.set(\"spark.driver.cores\", \"1\")\n",
    "\n",
    "# create the spark session, which is the entry point to Spark SQL engine.\n",
    "spark = SparkSession.builder.config(conf=sparkConf).getOrCreate()\n",
    "# load data\n",
    "# Setup hadoop fs configuration for schema gs://\n",
    "conf = spark.sparkContext._jsc.hadoopConfiguration()\n",
    "conf.set(\"fs.gs.impl\", \"com.google.cloud.hadoop.fs.gcs.GoogleHadoopFileSystem\")\n",
    "conf.set(\"fs.AbstractFileSystem.gs.impl\", \"com.google.cloud.hadoop.fs.gcs.GoogleHadoopFS\")\n",
    "\n",
    "\n",
    "airbnb_gsc_file_path = 'gs://data_de2024-tristan/listings.csv'\n",
    "reviews_gsc_file_path = 'gs://data_de2024-tristan/reviews-2.csv'\n",
    "calendar_gsc_file_path = 'gs://data_de2024-tristan/calendar.csv'"
   ]
  },
  {
   "cell_type": "code",
   "execution_count": 2,
   "id": "4a63be70-54fe-4034-adaa-fa571bdbd2dd",
   "metadata": {},
   "outputs": [
    {
     "name": "stdout",
     "output_type": "stream",
     "text": [
      "root\n",
      " |-- id: long (nullable = true)\n",
      " |-- name: string (nullable = true)\n",
      " |-- host_id: integer (nullable = true)\n",
      " |-- host_name: string (nullable = true)\n",
      " |-- neighbourhood_group: string (nullable = true)\n",
      " |-- neighbourhood: string (nullable = true)\n",
      " |-- latitude: float (nullable = true)\n",
      " |-- longitude: float (nullable = true)\n",
      " |-- room_type: string (nullable = true)\n",
      " |-- price: float (nullable = true)\n",
      " |-- minimum_nights: integer (nullable = true)\n",
      " |-- number_of_reviews: integer (nullable = true)\n",
      " |-- last_review: date (nullable = true)\n",
      " |-- reviews_per_month: float (nullable = true)\n",
      " |-- calculated_host_listings_count: integer (nullable = true)\n",
      " |-- availability_365: integer (nullable = true)\n",
      " |-- number_of_reviews_ltm: integer (nullable = true)\n",
      " |-- license: string (nullable = true)\n",
      " |-- borough: string (nullable = true)\n",
      "\n",
      "+-------------------+--------------------+---------+--------------+-------------------+------------------+---------+----------+---------------+-----+--------------+-----------------+-----------+-----------------+------------------------------+----------------+---------------------+-------+---------+\n",
      "|                 id|                name|  host_id|     host_name|neighbourhood_group|     neighbourhood| latitude| longitude|      room_type|price|minimum_nights|number_of_reviews|last_review|reviews_per_month|calculated_host_listings_count|availability_365|number_of_reviews_ltm|license|  borough|\n",
      "+-------------------+--------------------+---------+--------------+-------------------+------------------+---------+----------+---------------+-----+--------------+-----------------+-----------+-----------------+------------------------------+----------------+---------------------+-------+---------+\n",
      "|1189243425411300671|       The Grand III| 61391963|Stay With Vibe|          Manhattan|       Murray Hill| 40.75025|-73.977745|Entire home/apt| 58.0|            30|                1| 2024-08-02|             0.86|                           130|             357|                    1|   NULL|MANHATTAN|\n",
      "| 651593916026998398|Cheerful one bedr...|136812643|         Marah|           Brooklyn|         Flatlands| 40.62476| -73.93556|   Private room| 80.0|            30|                0|       NULL|             NULL|                             1|             365|                    0|   NULL| BROOKLYN|\n",
      "|             310325|Large Sunny Bedro...|   745069|      Kimberly|          Manhattan|            Harlem| 40.82359| -73.94601|   Private room| 75.0|            30|               31| 2019-09-28|             0.21|                             2|             335|                    0|   NULL|MANHATTAN|\n",
      "| 572612125615500056|Room by Sunny & B...|358089614|        Joshua|           Brooklyn|       Sunset Park| 40.63952| -74.01484|   Private room| 45.0|            30|                6| 2024-07-30|             0.21|                             2|             336|                    1|   NULL| BROOKLYN|\n",
      "|1020282701018874374|Trendy Private Be...|483056418|      Kristina|           Brooklyn|Bedford-Stuyvesant|40.678947|-73.943756|   Private room| 47.0|            30|                0|       NULL|             NULL|                            24|             269|                    0|   NULL| BROOKLYN|\n",
      "| 640443472855597440|Lovely 2 bed/2 ba...| 24278208|          Reah|           Brooklyn|Bedford-Stuyvesant|  40.6874| -73.95497|   Private room|194.0|            30|                0|       NULL|             NULL|                             2|             323|                    0|   NULL| BROOKLYN|\n",
      "| 725482656106188093|Gorgeous ! Amazin...|  4941291|        Randon|           Brooklyn|Bedford-Stuyvesant| 40.68043| -73.95715|Entire home/apt|400.0|            30|                0|       NULL|             NULL|                             1|             364|                    0|   NULL| BROOKLYN|\n",
      "| 681730243323738679|Lovely one bedroo...| 45774302|        Julian|           Brooklyn|          Bushwick| 40.69441| -73.92297|   Private room| 79.0|            30|               14| 2023-01-01|             0.56|                             2|              89|                    0|   NULL| BROOKLYN|\n",
      "|1004979479809147241|Beautiful Room in...|540041298|      Kristina|             Queens|         Ridgewood| 40.70261|-73.904625|   Private room| 45.0|            30|                0|       NULL|             NULL|                             5|             260|                    0|   NULL|   QUEENS|\n",
      "| 969035784970111373|   StuyvesantHieghts|534575586|        Walter|           Brooklyn|Bedford-Stuyvesant|  40.6836|-73.930336|Entire home/apt|225.0|            30|                5| 2023-10-16|             0.42|                             1|             180|                    5|   NULL| BROOKLYN|\n",
      "+-------------------+--------------------+---------+--------------+-------------------+------------------+---------+----------+---------------+-----+--------------+-----------------+-----------+-----------------+------------------------------+----------------+---------------------+-------+---------+\n",
      "only showing top 10 rows\n",
      "\n"
     ]
    }
   ],
   "source": [
    "from pyspark.sql.types import StructType, StructField, IntegerType, StringType, FloatType, DateType, LongType\n",
    "from pyspark.sql.functions import col, max, min, regexp_replace, upper, count, trim, rank, sum, when, avg, year\n",
    "\n",
    "\n",
    "dataSchema = StructType(\n",
    "        [StructField(\"id\", LongType(), True),\n",
    "         StructField(\"name\", StringType(), True),\n",
    "         StructField(\"host_id\", IntegerType(), True),\n",
    "         StructField(\"host_name\", StringType(), True),\n",
    "         StructField(\"neighbourhood_group\", StringType(), True),\n",
    "         StructField(\"neighbourhood\", StringType(), True),       \n",
    "         StructField(\"latitude\", FloatType(), True),\n",
    "         StructField(\"longitude\", FloatType(), True),\n",
    "         StructField(\"room_type\", StringType(), True),\n",
    "         StructField(\"price\", FloatType(), True),       \n",
    "         StructField(\"minimum_nights\", IntegerType(), True),\n",
    "         StructField(\"number_of_reviews\", IntegerType(), True),\n",
    "         StructField(\"last_review\", DateType(), True),\n",
    "         StructField(\"reviews_per_month\", FloatType(), True),       \n",
    "         StructField(\"calculated_host_listings_count\", IntegerType(), True),\n",
    "         StructField(\"availability_365\", IntegerType(), True),\n",
    "         StructField(\"number_of_reviews_ltm\", IntegerType(), True),\n",
    "         StructField(\"license\", StringType(), True)\n",
    "         ])\n",
    "\n",
    "listing_df = spark.read.schema(dataSchema).format(\"csv\").option(\"header\", \"true\") \\\n",
    "       .load(airbnb_gsc_file_path)\\\n",
    "       .withColumn('borough', upper(col('neighbourhood_group')))\n",
    "\n",
    "listing_df.printSchema()\n",
    "listing_df.show(10)"
   ]
  },
  {
   "cell_type": "code",
   "execution_count": 3,
   "id": "6486c461-753c-427a-a518-c532d140fc41",
   "metadata": {},
   "outputs": [
    {
     "name": "stdout",
     "output_type": "stream",
     "text": [
      "+-------------------+--------------------+---------+--------------------+---------+----------+---------------+-----+--------------+-----------------+---------+\n",
      "|                 id|                name|  host_id|           host_name| latitude| longitude|      room_type|price|minimum_nights|number_of_reviews|  borough|\n",
      "+-------------------+--------------------+---------+--------------------+---------+----------+---------------+-----+--------------+-----------------+---------+\n",
      "|1189243425411300671|       The Grand III| 61391963|      Stay With Vibe| 40.75025|-73.977745|Entire home/apt| 58.0|            30|                1|MANHATTAN|\n",
      "| 651593916026998398|Cheerful one bedr...|136812643|               Marah| 40.62476| -73.93556|   Private room| 80.0|            30|                0| BROOKLYN|\n",
      "|             310325|Large Sunny Bedro...|   745069|            Kimberly| 40.82359| -73.94601|   Private room| 75.0|            30|               31|MANHATTAN|\n",
      "| 572612125615500056|Room by Sunny & B...|358089614|              Joshua| 40.63952| -74.01484|   Private room| 45.0|            30|                6| BROOKLYN|\n",
      "|1020282701018874374|Trendy Private Be...|483056418|            Kristina|40.678947|-73.943756|   Private room| 47.0|            30|                0| BROOKLYN|\n",
      "| 640443472855597440|Lovely 2 bed/2 ba...| 24278208|                Reah|  40.6874| -73.95497|   Private room|194.0|            30|                0| BROOKLYN|\n",
      "| 725482656106188093|Gorgeous ! Amazin...|  4941291|              Randon| 40.68043| -73.95715|Entire home/apt|400.0|            30|                0| BROOKLYN|\n",
      "| 681730243323738679|Lovely one bedroo...| 45774302|              Julian| 40.69441| -73.92297|   Private room| 79.0|            30|               14| BROOKLYN|\n",
      "|1004979479809147241|Beautiful Room in...|540041298|            Kristina| 40.70261|-73.904625|   Private room| 45.0|            30|                0|   QUEENS|\n",
      "| 969035784970111373|   StuyvesantHieghts|534575586|              Walter|  40.6836|-73.930336|Entire home/apt|225.0|            30|                5| BROOKLYN|\n",
      "| 773237631431486588|     Home sweet home|454700211|                Myaa| 40.67809| -73.93971|   Private room|150.0|            30|                1| BROOKLYN|\n",
      "| 818099336473939614|1288-3RS New Reno...|162280872|     Urban Furnished| 40.76596| -73.95712|Entire home/apt|191.0|            30|                2|MANHATTAN|\n",
      "|1097125455525075775|MCM-inspired with...|563069592|The Tillary Hotel...|40.696354| -73.98435|   Private room|295.0|             1|               23| BROOKLYN|\n",
      "| 760086536368275287|Luxury apt in the...|   736652|             Luciana| 40.71356| -73.94187|Entire home/apt|495.0|            30|                8| BROOKLYN|\n",
      "|1043748746630664860|Accent chairs, cu...|547422647|         The Wallace| 40.78188| -73.98188|   Private room|602.0|             1|                0|MANHATTAN|\n",
      "| 814741679869275205|Comfortable and Cozy|339192135|               Nadia| 40.81185| -73.96051|   Private room|149.0|            30|                1|MANHATTAN|\n",
      "| 762355634788904537|Comfortable bedro...|363171869|             Michael|  40.7024|  -73.9248|   Private room| 56.0|            30|                2| BROOKLYN|\n",
      "| 978191817244397875|Central Williamsb...| 39448176|               Helen| 40.71296| -73.94806|Entire home/apt|220.0|            30|                0| BROOKLYN|\n",
      "|            9735931|Private room in s...|  6501582|                Gaia| 40.67656| -73.93325|   Private room| NULL|            30|                9| BROOKLYN|\n",
      "|            7359313|Luxury Doorman Ap...| 38445572|            Jennifer| 40.74801| -73.97391|   Private room| NULL|            30|                1|MANHATTAN|\n",
      "+-------------------+--------------------+---------+--------------------+---------+----------+---------------+-----+--------------+-----------------+---------+\n",
      "only showing top 20 rows\n",
      "\n"
     ]
    }
   ],
   "source": [
    "listing_df = listing_df.withColumn('borough', upper(col('neighbourhood_group')))\n",
    "listing_df = listing_df.drop('last_review', 'reviews_per_month', 'calculated_host_listings_count', 'neighbourhood', 'neighbourhood_group','availability_365', 'number_of_reviews_ltm', 'license')\n",
    "\n",
    "listing_df.show()"
   ]
  },
  {
   "cell_type": "code",
   "execution_count": 4,
   "id": "0e96b7f3-86b8-491a-939a-f14f0794a3be",
   "metadata": {},
   "outputs": [
    {
     "name": "stdout",
     "output_type": "stream",
     "text": [
      "+---+----+-------+---------+--------+---------+---------+-----+--------------+-----------------+-------+\n",
      "| id|name|host_id|host_name|latitude|longitude|room_type|price|minimum_nights|number_of_reviews|borough|\n",
      "+---+----+-------+---------+--------+---------+---------+-----+--------------+-----------------+-------+\n",
      "|157|  17|    306|      162|     178|      294|      193|14877|           170|              289|    157|\n",
      "+---+----+-------+---------+--------+---------+---------+-----+--------------+-----------------+-------+\n",
      "\n"
     ]
    },
    {
     "data": {
      "text/plain": [
       "37698"
      ]
     },
     "execution_count": 4,
     "metadata": {},
     "output_type": "execute_result"
    }
   ],
   "source": [
    "null_counts = listing_df.select(\n",
    "    *[sum(when(col(c).isNull(), 1).otherwise(0)).alias(c) for c in listing_df.columns]\n",
    ")\n",
    "null_counts.show()\n",
    "listing_df.count()"
   ]
  },
  {
   "cell_type": "code",
   "execution_count": 5,
   "id": "580e8625-51f9-4362-a778-2fd493ee7df8",
   "metadata": {},
   "outputs": [
    {
     "data": {
      "text/plain": [
       "22680"
      ]
     },
     "execution_count": 5,
     "metadata": {},
     "output_type": "execute_result"
    }
   ],
   "source": [
    "listing_df_cleaned = listing_df.dropna(subset=['id', 'name', 'host_id', 'host_name', 'room_type', 'price','number_of_reviews', 'borough'])\n",
    "listing_df_cleaned.count()"
   ]
  },
  {
   "cell_type": "code",
   "execution_count": 6,
   "id": "28450120-376e-430b-b99b-d04b7090a6a1",
   "metadata": {},
   "outputs": [
    {
     "name": "stdout",
     "output_type": "stream",
     "text": [
      "+-------------------+--------------------+---------+--------------+---------+----------+---------------+-----+--------------+-----------------+---------+\n",
      "|                 id|                name|  host_id|     host_name| latitude| longitude|      room_type|price|minimum_nights|number_of_reviews|  borough|\n",
      "+-------------------+--------------------+---------+--------------+---------+----------+---------------+-----+--------------+-----------------+---------+\n",
      "|1189243425411300671|       The Grand III| 61391963|Stay With Vibe| 40.75025|-73.977745|Entire home/apt| 58.0|            30|                1|MANHATTAN|\n",
      "| 651593916026998398|Cheerful one bedr...|136812643|         Marah| 40.62476| -73.93556|   Private room| 80.0|            30|                0| BROOKLYN|\n",
      "|             310325|Large Sunny Bedro...|   745069|      Kimberly| 40.82359| -73.94601|   Private room| 75.0|            30|               31|MANHATTAN|\n",
      "| 572612125615500056|Room by Sunny & B...|358089614|        Joshua| 40.63952| -74.01484|   Private room| 45.0|            30|                6| BROOKLYN|\n",
      "|1020282701018874374|Trendy Private Be...|483056418|      Kristina|40.678947|-73.943756|   Private room| 47.0|            30|                0| BROOKLYN|\n",
      "+-------------------+--------------------+---------+--------------+---------+----------+---------------+-----+--------------+-----------------+---------+\n",
      "only showing top 5 rows\n",
      "\n"
     ]
    }
   ],
   "source": [
    "listing_df_cleaned.show(5)"
   ]
  },
  {
   "cell_type": "code",
   "execution_count": 7,
   "id": "f1a76f25-27db-4635-9bbb-514e4a463281",
   "metadata": {},
   "outputs": [
    {
     "name": "stdout",
     "output_type": "stream",
     "text": [
      "root\n",
      " |-- listing_id: long (nullable = true)\n",
      " |-- date: date (nullable = true)\n",
      " |-- available: string (nullable = true)\n",
      " |-- price: string (nullable = true)\n",
      " |-- adjusted_price: string (nullable = true)\n",
      " |-- minimum_nights: integer (nullable = true)\n",
      " |-- maximum_nights: integer (nullable = true)\n",
      "\n",
      "+----------+----------+---------+-------+--------------+--------------+--------------+\n",
      "|listing_id|      date|available|  price|adjusted_price|minimum_nights|maximum_nights|\n",
      "+----------+----------+---------+-------+--------------+--------------+--------------+\n",
      "|      2595|2024-09-05|        f|$225.00|          NULL|            30|          1125|\n",
      "|      2595|2024-09-06|        f|$225.00|          NULL|            30|          1125|\n",
      "|      2595|2024-09-07|        f|$225.00|          NULL|            30|          1125|\n",
      "|      2595|2024-09-08|        f|$225.00|          NULL|            30|          1125|\n",
      "|      2595|2024-09-09|        f|$225.00|          NULL|            30|          1125|\n",
      "|      2595|2024-09-10|        f|$225.00|          NULL|            30|          1125|\n",
      "|      2595|2024-09-11|        f|$225.00|          NULL|            30|          1125|\n",
      "|      2595|2024-09-12|        f|$225.00|          NULL|            30|          1125|\n",
      "|      2595|2024-09-13|        f|$225.00|          NULL|            30|          1125|\n",
      "|      2595|2024-09-14|        f|$225.00|          NULL|            30|          1125|\n",
      "+----------+----------+---------+-------+--------------+--------------+--------------+\n",
      "only showing top 10 rows\n",
      "\n"
     ]
    }
   ],
   "source": [
    "from pyspark.sql.types import StructType, StructField, IntegerType, StringType, FloatType, DateType, LongType, BooleanType\n",
    "from pyspark.sql.functions import col, max, min, regexp_replace, upper, count, trim, rank, sum, when, avg, year\n",
    "\n",
    "\n",
    "dataSchema = StructType(\n",
    "        [StructField(\"listing_id\", LongType(), True),\n",
    "         StructField(\"date\", DateType(), True),\n",
    "         StructField(\"available\", StringType(), True),\n",
    "         StructField(\"price\", StringType(), True),\n",
    "         StructField(\"adjusted_price\", StringType(), True),       \n",
    "         StructField(\"minimum_nights\", IntegerType(), True),\n",
    "         StructField(\"maximum_nights\", IntegerType(), True)\n",
    "         ])\n",
    "\n",
    "df_calendar = spark.read.schema(dataSchema).format(\"csv\").option(\"header\", \"true\") \\\n",
    "       .load(calendar_gsc_file_path)\n",
    "\n",
    "\n",
    "df_calendar.printSchema()\n",
    "df_calendar.show(10)"
   ]
  },
  {
   "cell_type": "code",
   "execution_count": 8,
   "id": "7924fac5-fa4d-49c7-bfcb-eacf6d6f3141",
   "metadata": {},
   "outputs": [],
   "source": [
    "df_calendar_cleaned = df_calendar.filter(year(col(\"date\")) == 2025).groupBy(\"listing_id\").agg(\n",
    "    sum(when(col(\"available\") == \"t\", 1).otherwise(0)).alias(\"availability_2025\")\n",
    ")"
   ]
  },
  {
   "cell_type": "code",
   "execution_count": 9,
   "id": "82dbf23a-cfc7-4e15-a1d2-fbdd3fc43291",
   "metadata": {},
   "outputs": [
    {
     "name": "stdout",
     "output_type": "stream",
     "text": [
      "+----------+-----------------+\n",
      "|listing_id|availability_2025|\n",
      "+----------+-----------------+\n",
      "|49048     |246              |\n",
      "|385824    |247              |\n",
      "|818518    |0                |\n",
      "|867020    |247              |\n",
      "|1115381   |0                |\n",
      "|1617443   |0                |\n",
      "|1826701   |246              |\n",
      "|2863589   |0                |\n",
      "|3156969   |247              |\n",
      "|5681182   |151              |\n",
      "+----------+-----------------+\n",
      "only showing top 10 rows\n",
      "\n"
     ]
    }
   ],
   "source": [
    "df_calendar_cleaned.show(10, truncate=False)"
   ]
  },
  {
   "cell_type": "code",
   "execution_count": 10,
   "id": "cc3f6beb-47c6-4935-99fc-d00a963d1285",
   "metadata": {},
   "outputs": [
    {
     "data": {
      "text/plain": [
       "37540"
      ]
     },
     "execution_count": 10,
     "metadata": {},
     "output_type": "execute_result"
    }
   ],
   "source": [
    "df_calendar_cleaned.count()"
   ]
  },
  {
   "cell_type": "code",
   "execution_count": 11,
   "id": "85cebb65-3b7c-4e64-9d81-401ad0ea2518",
   "metadata": {},
   "outputs": [
    {
     "name": "stdout",
     "output_type": "stream",
     "text": [
      "+-------+--------------------------------------------------+--------+----------------+---------+---------+---------------+-----+--------------+-----------------+---------+-----------------+\n",
      "|id     |name                                              |host_id |host_name       |latitude |longitude|room_type      |price|minimum_nights|number_of_reviews|borough  |availability_2025|\n",
      "+-------+--------------------------------------------------+--------+----------------+---------+---------+---------------+-----+--------------+-----------------+---------+-----------------+\n",
      "|49048  |Serene Private Room w own bathroom                |35935   |Angela          |40.6829  |-73.95701|Private room   |95.0 |30            |28               |BROOKLYN |246              |\n",
      "|385824 |New York City- Riverdale Modern two bedrooms unit |1931205 |Orit            |40.88095 |-73.91701|Entire home/apt|214.0|30            |146              |BRONX    |247              |\n",
      "|818518 |Manhattan beautiful spacious fire escape room.    |4299040 |Lupi            |40.820316|-73.95405|Private room   |99.0 |30            |85               |MANHATTAN|0                |\n",
      "|867020 |Nice quiet room on a backyard                     |4363775 |O.              |40.73336 |-73.95815|Private room   |60.0 |31            |12               |BROOKLYN |247              |\n",
      "|1617443|Great Artistic Studio in Historic Building        |2240143 |Pavel           |40.81609 |-73.94355|Entire home/apt|65.0 |30            |37               |MANHATTAN|0                |\n",
      "|1826701|Just like home & more in Rm #2                    |6632440 |Emmett          |40.82357 |-73.95484|Private room   |65.0 |30            |10               |MANHATTAN|246              |\n",
      "|3156969|Surfers' and Beach Goers' Paradise                |16019176|Marek           |40.58493 |-73.81736|Entire home/apt|144.0|30            |346              |QUEENS   |247              |\n",
      "|5681182|Single Room with Skyline Views                    |13745141|William         |40.7089  |-73.9439 |Private room   |90.0 |30            |0                |BROOKLYN |151              |\n",
      "|8272327|Quiet Brownstone Parlor Room with Private Bathroom|38465372|Nadege & Charles|40.68801 |-73.99825|Private room   |245.0|3             |105              |BROOKLYN |53               |\n",
      "|8322478|Designers brownstone in Bed-Stuy                  |5008870 |Mia             |40.68252 |-73.92404|Entire home/apt|149.0|30            |332              |BROOKLYN |151              |\n",
      "+-------+--------------------------------------------------+--------+----------------+---------+---------+---------------+-----+--------------+-----------------+---------+-----------------+\n",
      "only showing top 10 rows\n",
      "\n"
     ]
    }
   ],
   "source": [
    "final_df = listing_df_cleaned.join(\n",
    "    df_calendar_cleaned,\n",
    "    df_calendar_cleaned[\"listing_id\"] == listing_df_cleaned[\"id\"],\n",
    "    \"inner\"\n",
    ").select(\n",
    "    listing_df_cleaned[\"*\"],  \n",
    "    df_calendar_cleaned[\"availability_2025\"]\n",
    ")\n",
    "\n",
    "final_df.show(10, truncate=False)\n"
   ]
  },
  {
   "cell_type": "code",
   "execution_count": 12,
   "id": "d69d8477-5ef8-4ed9-a466-1b9959664d19",
   "metadata": {},
   "outputs": [
    {
     "name": "stdout",
     "output_type": "stream",
     "text": [
      "+---+----+-------+---------+--------+---------+---------+-----+--------------+-----------------+-------+-----------------+\n",
      "| id|name|host_id|host_name|latitude|longitude|room_type|price|minimum_nights|number_of_reviews|borough|availability_2025|\n",
      "+---+----+-------+---------+--------+---------+---------+-----+--------------+-----------------+-------+-----------------+\n",
      "|  0|   0|      0|        0|       0|        0|        0|    0|             0|                0|      0|                0|\n",
      "+---+----+-------+---------+--------+---------+---------+-----+--------------+-----------------+-------+-----------------+\n",
      "\n"
     ]
    },
    {
     "data": {
      "text/plain": [
       "37698"
      ]
     },
     "execution_count": 12,
     "metadata": {},
     "output_type": "execute_result"
    }
   ],
   "source": [
    "null_counts = final_df.select(\n",
    "    *[sum(when(col(c).isNull(), 1).otherwise(0)).alias(c) for c in final_df.columns]\n",
    ")\n",
    "null_counts.show()\n",
    "listing_df.count()"
   ]
  },
  {
   "cell_type": "code",
   "execution_count": 13,
   "id": "8da08095-78d1-4d8a-a068-690855a807ee",
   "metadata": {},
   "outputs": [
    {
     "name": "stdout",
     "output_type": "stream",
     "text": [
      "+--------+--------------------+---------+-----------------+---------+---------+---------------+-----+--------------+-----------------+-------+-----------------+----------+------------+\n",
      "|      id|                name|  host_id|        host_name| latitude|longitude|      room_type|price|minimum_nights|number_of_reviews|borough|availability_2025|price_rank|reviews_rank|\n",
      "+--------+--------------------+---------+-----------------+---------+---------+---------------+-----+--------------+-----------------+-------+-----------------+----------+------------+\n",
      "| 9788114|Beautiful Grand S...|   785524|             Eric| 40.81965|-73.92911|   Private room| 99.0|             1|              524|  BRONX|              762|       387|           1|\n",
      "|20480983|Spacious Top Floo...|   785524|             Eric| 40.82122|-73.92859|   Private room| 91.0|             1|              396|  BRONX|              762|       445|           2|\n",
      "|  182177|A PRIVATE FLAT / ...|   873273|Christian & Carla| 40.86502|-73.85496|Entire home/apt|225.0|            60|              347|  BRONX|                1|        90|           3|\n",
      "|11020169|Luxurious  one be...| 57165692|          Charles| 40.87185|-73.84109|Entire home/apt|120.0|            30|              332|  BRONX|              617|       285|           4|\n",
      "|30109916|Entire Spacious A...| 22694324|          Gregory| 40.87005|-73.84729|Entire home/apt|100.0|            30|              284|  BRONX|                1|       360|           5|\n",
      "|11138823|A beautiful Cozy ...| 57885474|         Shully'S| 40.89858|-73.85896|Entire home/apt|103.0|            30|              259|  BRONX|                1|       355|           6|\n",
      "|23712143|2e chambre pour 1...|161081229|    Ibrahim Maiga| 40.82274|-73.91353|   Private room| 45.0|            30|              250|  BRONX|              477|       789|           7|\n",
      "|43847085|A Bronx Oasis in ...| 68225611|           Sharon| 40.81977|-73.81576|   Private room| 99.0|            30|              249|  BRONX|                1|       387|           8|\n",
      "|33907325|NY3182-8 TheBronx...|211136294|           Sharon| 40.83668|-73.83421|   Private room| 62.0|            30|              235|  BRONX|                1|       651|           9|\n",
      "|20124372|    LOVE MANHATTAN 1|143052745|            Ociel| 40.80991|-73.91957|   Private room| 40.0|            30|              230|  BRONX|              539|       827|          10|\n",
      "|32801214|NY3182-6 Queen+Tw...|211136294|           Sharon| 40.83668|-73.83421|   Private room| 90.0|            30|              227|  BRONX|              483|       447|          11|\n",
      "|15576821|Best accommodatio...| 55948559|            Barry| 40.86473|-73.84078|   Private room| 45.0|            30|              226|  BRONX|              762|       789|          12|\n",
      "| 6066563|Garden House in t...| 19810363|             Eric| 40.81241|-73.85639|Entire home/apt|125.0|            30|              205|  BRONX|              446|       258|          13|\n",
      "|28462811|Edna'a Private Ro...|214859918|             Edna| 40.82372|-73.92623|   Private room| 85.0|            30|              205|  BRONX|              696|       489|          13|\n",
      "|40681398|    Home Sweet Home!|315721256|           Rosana| 40.83104|-73.89533|   Private room| 49.0|            30|              195|  BRONX|              539|       769|          15|\n",
      "| 1278784|Private room minu...|  6959061|            Roque| 40.81341|-73.90544|   Private room| 83.0|            30|              190|  BRONX|              473|       502|          16|\n",
      "|35996222|Stylish 2 Beds Ro...|270796745|            Sonia|40.867287|-73.85113|   Private room|120.0|             2|              189|  BRONX|              617|       285|          17|\n",
      "| 9147025|Cozy City Island ...|   403032|            Diane| 40.84637|-73.78857|Entire home/apt|124.0|            30|              188|  BRONX|                1|       279|          18|\n",
      "|17367187|Private & Separat...| 11196496|          Amílcar|40.829353|-73.92788|   Private room|250.0|            30|              188|  BRONX|              217|        66|          18|\n",
      "|23597076|Bronx Cozy 1 Bedr...|176279414|           Milton| 40.87157|-73.86017|Entire home/apt|110.0|            30|              186|  BRONX|                1|       323|          20|\n",
      "+--------+--------------------+---------+-----------------+---------+---------+---------------+-----+--------------+-----------------+-------+-----------------+----------+------------+\n",
      "only showing top 20 rows\n",
      "\n"
     ]
    }
   ],
   "source": [
    "window_spec_price = Window.partitionBy(\"borough\").orderBy(col(\"price\").desc())\n",
    "window_spec_availability = Window.partitionBy(\"borough\").orderBy(col(\"availability_2025\").desc())\n",
    "window_spec_reviews = Window.partitionBy(\"borough\").orderBy(col(\"number_of_reviews\").desc())\n",
    "\n",
    "df_final = (\n",
    "    final_df.withColumn(\"price_rank\", rank().over(window_spec_price))\n",
    "      .withColumn(\"availability_2025\", rank().over(window_spec_availability))\n",
    "      .withColumn(\"reviews_rank\", rank().over(window_spec_reviews))\n",
    ")\n",
    "\n",
    "df_final.show(20)"
   ]
  },
  {
   "cell_type": "code",
   "execution_count": null,
   "id": "7caefc03-f27b-4149-ae68-1303bc9177a2",
   "metadata": {},
   "outputs": [],
   "source": [
    "from google.cloud import bigquery\n",
    "\n",
    "# Use the Cloud Storage bucket for temporary BigQuery export data used by the connector.\n",
    "bucket = \"de_jads_temp_708179\"  # use your bucket \n",
    "spark.conf.set('temporaryGcsBucket', bucket)\n",
    "# Setup hadoop fs configuration for schema gs://\n",
    "conf = spark.sparkContext._jsc.hadoopConfiguration()\n",
    "conf.set(\"fs.gs.impl\", \"com.google.cloud.hadoop.fs.gcs.GoogleHadoopFileSystem\")\n",
    "conf.set(\"fs.AbstractFileSystem.gs.impl\", \"com.google.cloud.hadoop.fs.gcs.GoogleHadoopFS\")\n",
    "# Saving the data to BigQuery\n",
    "df_final.write.format('bigquery') \\\n",
    "  .option('table', 'de2024-435320.assignment_2.airbnb') \\\n",
    "  .mode(\"overwrite\") \\\n",
    "  .save()"
   ]
  }
 ],
 "metadata": {
  "kernelspec": {
   "display_name": "Python 3 (ipykernel)",
   "language": "python",
   "name": "python3"
  },
  "language_info": {
   "codemirror_mode": {
    "name": "ipython",
    "version": 3
   },
   "file_extension": ".py",
   "mimetype": "text/x-python",
   "name": "python",
   "nbconvert_exporter": "python",
   "pygments_lexer": "ipython3",
   "version": "3.11.6"
  }
 },
 "nbformat": 4,
 "nbformat_minor": 5
}
